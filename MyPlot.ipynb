{
 "cells": [
  {
   "cell_type": "code",
   "execution_count": 1,
   "id": "5bd4821a",
   "metadata": {},
   "outputs": [],
   "source": [
    "using Plots\n",
    "using DelimitedFiles\n",
    "using ColorSchemes\n",
    "#using CSV\n",
    "using LaTeXStrings\n",
    "#using PyPlot"
   ]
  },
  {
   "cell_type": "code",
   "execution_count": null,
   "id": "fd38dce8",
   "metadata": {},
   "outputs": [],
   "source": []
  },
  {
   "cell_type": "code",
   "execution_count": 2,
   "id": "4b243981",
   "metadata": {},
   "outputs": [],
   "source": [
    "file = raw\"plot_data_12_1917.txt\"\n",
    "M = readdlm(file)\n",
    "delta = M[:,1]; # index\n",
    "energy = M[:,2]; # eigenvalue\n",
    "entropy = M[:,3]; # entropy"
   ]
  },
  {
   "cell_type": "code",
   "execution_count": 7,
   "id": "c136456f-6290-4c28-9e05-2ac7c2cdfb63",
   "metadata": {},
   "outputs": [
    {
     "data": {
      "text/plain": [
       "3.6588830833596715"
      ]
     },
     "execution_count": 7,
     "metadata": {},
     "output_type": "execute_result"
    }
   ],
   "source": [
    "S_Page = 0.5*L*log(2)-0.5"
   ]
  },
  {
   "cell_type": "code",
   "execution_count": null,
   "id": "c9f7da85",
   "metadata": {},
   "outputs": [],
   "source": [
    "gr()\n",
    "L = 12;\n",
    "S_Page = 0.5*L*log(2)-0.5\n",
    "MyTitle = \"Energy vs disorder\"#\"L = 12, Page Value = \"*string(round(0.5*L*log(2)-0.5;digits = 2))*\",Seed = 1917\";\n",
    "p = plot(delta,energy,\n",
    "    seriestype = :scatter,\n",
    "    markerstrokecolor = \"grey30\",\n",
    "    markerstrokewidth=0.0,\n",
    "    markersize=1,\n",
    "    thickness_scaling = 1.4,\n",
    "    xlims=(0,0.3), \n",
    "    ylims=(-3.2,3.2),\n",
    "    #title = MyTitle,\n",
    "    label = \"\",\n",
    "    #legend = :bottomleft,\n",
    "    dpi=500,\n",
    "    zcolor = entropy,\n",
    "    grid = false,\n",
    "    #colorbar_title = \"Average entanglement entropy\",\n",
    "    font=\"CMU Serif\",\n",
    "    color = :jet1,\n",
    "    #:linear_bmy_10_95_c78_n256,#:diverging_rainbow_bgymr_45_85_c67_n256,#:linear_bmy_10_95_c78_n256,#:rainbow1,\n",
    "    right_margin = 5Plots.mm,\n",
    "    left_margin = Plots.mm,\n",
    "    titlefontsize=10,\n",
    "    guidefontsize=13,\n",
    "    tickfontsize=13,\n",
    "    legendfontsize=15,\n",
    "    )\n",
    "plot!(size=(800,700))\n",
    "#plot!(yticks = ([(-pi) : (-pi/2): (-pi/4): 0: (pi/4) : (pi/2) : pi;], [\"-\\\\pi\", \"-\\\\pi/2\", \"-\\\\pi/4\",\"0\",\"\\\\pi/4\",\"\\\\pi/2\",\"\\\\pi\"]))\n",
    "#hline!([[-3.11034138188]],lc=:magenta,linestyle= :dashdotdot,legend=false)\n",
    "#hline!([ [0]],lc=:magenta,linestyle= :dashdotdot,legend=false)\n",
    "#hline!([ [3.11034138188]],lc=:magenta,linestyle= :dashdotdot,legend=false)\n",
    "xlabel!(\"Noise \\$\\\\delta\\$\")\n",
    "ylabel!(\"Energy \\$\\\\phi_{F}\\$\")\n",
    "savefig(\"12-delta_energy_1917.png\")"
   ]
  },
  {
   "cell_type": "code",
   "execution_count": 4,
   "id": "bc5139d8",
   "metadata": {},
   "outputs": [],
   "source": [
    "#plot(y_seom,lw=2, color = \"red\", label =\"\" )"
   ]
  }
 ],
 "metadata": {
  "kernelspec": {
   "display_name": "Julia 1.8.1",
   "language": "julia",
   "name": "julia-1.8"
  },
  "language_info": {
   "file_extension": ".jl",
   "mimetype": "application/julia",
   "name": "julia",
   "version": "1.8.1"
  }
 },
 "nbformat": 4,
 "nbformat_minor": 5
}
